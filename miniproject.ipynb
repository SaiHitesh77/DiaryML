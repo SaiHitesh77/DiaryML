{
  "cells": [
    {
      "cell_type": "code",
      "execution_count": null,
      "metadata": {
        "colab": {
          "base_uri": "https://localhost:8080/",
          "height": 206
        },
        "id": "Qf2NF1R7YTws",
        "outputId": "cdec7535-f7b3-4faf-fa46-6b54b968f0ba"
      },
      "outputs": [
        {
          "output_type": "execute_result",
          "data": {
            "text/plain": [
              "                                                text  emotion\n",
              "0  im feeling rather rotten so im not very ambiti...  sadness\n",
              "1          im updating my blog because i feel shitty  sadness\n",
              "2  i never make her separate from me because i do...  sadness\n",
              "3  i left with my bouquet of red and yellow tulip...      joy\n",
              "4    i was feeling a little vain when i did this one  sadness"
            ],
            "text/html": [
              "\n",
              "\n",
              "  <div id=\"df-c6bac257-9bf5-4374-885f-1aba1f56ef12\">\n",
              "    <div class=\"colab-df-container\">\n",
              "      <div>\n",
              "<style scoped>\n",
              "    .dataframe tbody tr th:only-of-type {\n",
              "        vertical-align: middle;\n",
              "    }\n",
              "\n",
              "    .dataframe tbody tr th {\n",
              "        vertical-align: top;\n",
              "    }\n",
              "\n",
              "    .dataframe thead th {\n",
              "        text-align: right;\n",
              "    }\n",
              "</style>\n",
              "<table border=\"1\" class=\"dataframe\">\n",
              "  <thead>\n",
              "    <tr style=\"text-align: right;\">\n",
              "      <th></th>\n",
              "      <th>text</th>\n",
              "      <th>emotion</th>\n",
              "    </tr>\n",
              "  </thead>\n",
              "  <tbody>\n",
              "    <tr>\n",
              "      <th>0</th>\n",
              "      <td>im feeling rather rotten so im not very ambiti...</td>\n",
              "      <td>sadness</td>\n",
              "    </tr>\n",
              "    <tr>\n",
              "      <th>1</th>\n",
              "      <td>im updating my blog because i feel shitty</td>\n",
              "      <td>sadness</td>\n",
              "    </tr>\n",
              "    <tr>\n",
              "      <th>2</th>\n",
              "      <td>i never make her separate from me because i do...</td>\n",
              "      <td>sadness</td>\n",
              "    </tr>\n",
              "    <tr>\n",
              "      <th>3</th>\n",
              "      <td>i left with my bouquet of red and yellow tulip...</td>\n",
              "      <td>joy</td>\n",
              "    </tr>\n",
              "    <tr>\n",
              "      <th>4</th>\n",
              "      <td>i was feeling a little vain when i did this one</td>\n",
              "      <td>sadness</td>\n",
              "    </tr>\n",
              "  </tbody>\n",
              "</table>\n",
              "</div>\n",
              "      <button class=\"colab-df-convert\" onclick=\"convertToInteractive('df-c6bac257-9bf5-4374-885f-1aba1f56ef12')\"\n",
              "              title=\"Convert this dataframe to an interactive table.\"\n",
              "              style=\"display:none;\">\n",
              "\n",
              "  <svg xmlns=\"http://www.w3.org/2000/svg\" height=\"24px\"viewBox=\"0 0 24 24\"\n",
              "       width=\"24px\">\n",
              "    <path d=\"M0 0h24v24H0V0z\" fill=\"none\"/>\n",
              "    <path d=\"M18.56 5.44l.94 2.06.94-2.06 2.06-.94-2.06-.94-.94-2.06-.94 2.06-2.06.94zm-11 1L8.5 8.5l.94-2.06 2.06-.94-2.06-.94L8.5 2.5l-.94 2.06-2.06.94zm10 10l.94 2.06.94-2.06 2.06-.94-2.06-.94-.94-2.06-.94 2.06-2.06.94z\"/><path d=\"M17.41 7.96l-1.37-1.37c-.4-.4-.92-.59-1.43-.59-.52 0-1.04.2-1.43.59L10.3 9.45l-7.72 7.72c-.78.78-.78 2.05 0 2.83L4 21.41c.39.39.9.59 1.41.59.51 0 1.02-.2 1.41-.59l7.78-7.78 2.81-2.81c.8-.78.8-2.07 0-2.86zM5.41 20L4 18.59l7.72-7.72 1.47 1.35L5.41 20z\"/>\n",
              "  </svg>\n",
              "      </button>\n",
              "\n",
              "\n",
              "\n",
              "    <div id=\"df-db71c15e-1d0d-4e56-b87b-70074bdba553\">\n",
              "      <button class=\"colab-df-quickchart\" onclick=\"quickchart('df-db71c15e-1d0d-4e56-b87b-70074bdba553')\"\n",
              "              title=\"Suggest charts.\"\n",
              "              style=\"display:none;\">\n",
              "\n",
              "<svg xmlns=\"http://www.w3.org/2000/svg\" height=\"24px\"viewBox=\"0 0 24 24\"\n",
              "     width=\"24px\">\n",
              "    <g>\n",
              "        <path d=\"M19 3H5c-1.1 0-2 .9-2 2v14c0 1.1.9 2 2 2h14c1.1 0 2-.9 2-2V5c0-1.1-.9-2-2-2zM9 17H7v-7h2v7zm4 0h-2V7h2v10zm4 0h-2v-4h2v4z\"/>\n",
              "    </g>\n",
              "</svg>\n",
              "      </button>\n",
              "    </div>\n",
              "\n",
              "<style>\n",
              "  .colab-df-quickchart {\n",
              "    background-color: #E8F0FE;\n",
              "    border: none;\n",
              "    border-radius: 50%;\n",
              "    cursor: pointer;\n",
              "    display: none;\n",
              "    fill: #1967D2;\n",
              "    height: 32px;\n",
              "    padding: 0 0 0 0;\n",
              "    width: 32px;\n",
              "  }\n",
              "\n",
              "  .colab-df-quickchart:hover {\n",
              "    background-color: #E2EBFA;\n",
              "    box-shadow: 0px 1px 2px rgba(60, 64, 67, 0.3), 0px 1px 3px 1px rgba(60, 64, 67, 0.15);\n",
              "    fill: #174EA6;\n",
              "  }\n",
              "\n",
              "  [theme=dark] .colab-df-quickchart {\n",
              "    background-color: #3B4455;\n",
              "    fill: #D2E3FC;\n",
              "  }\n",
              "\n",
              "  [theme=dark] .colab-df-quickchart:hover {\n",
              "    background-color: #434B5C;\n",
              "    box-shadow: 0px 1px 3px 1px rgba(0, 0, 0, 0.15);\n",
              "    filter: drop-shadow(0px 1px 2px rgba(0, 0, 0, 0.3));\n",
              "    fill: #FFFFFF;\n",
              "  }\n",
              "</style>\n",
              "\n",
              "    <script>\n",
              "      async function quickchart(key) {\n",
              "        const containerElement = document.querySelector('#' + key);\n",
              "        const charts = await google.colab.kernel.invokeFunction(\n",
              "            'suggestCharts', [key], {});\n",
              "      }\n",
              "    </script>\n",
              "\n",
              "      <script>\n",
              "\n",
              "function displayQuickchartButton(domScope) {\n",
              "  let quickchartButtonEl =\n",
              "    domScope.querySelector('#df-db71c15e-1d0d-4e56-b87b-70074bdba553 button.colab-df-quickchart');\n",
              "  quickchartButtonEl.style.display =\n",
              "    google.colab.kernel.accessAllowed ? 'block' : 'none';\n",
              "}\n",
              "\n",
              "        displayQuickchartButton(document);\n",
              "      </script>\n",
              "      <style>\n",
              "    .colab-df-container {\n",
              "      display:flex;\n",
              "      flex-wrap:wrap;\n",
              "      gap: 12px;\n",
              "    }\n",
              "\n",
              "    .colab-df-convert {\n",
              "      background-color: #E8F0FE;\n",
              "      border: none;\n",
              "      border-radius: 50%;\n",
              "      cursor: pointer;\n",
              "      display: none;\n",
              "      fill: #1967D2;\n",
              "      height: 32px;\n",
              "      padding: 0 0 0 0;\n",
              "      width: 32px;\n",
              "    }\n",
              "\n",
              "    .colab-df-convert:hover {\n",
              "      background-color: #E2EBFA;\n",
              "      box-shadow: 0px 1px 2px rgba(60, 64, 67, 0.3), 0px 1px 3px 1px rgba(60, 64, 67, 0.15);\n",
              "      fill: #174EA6;\n",
              "    }\n",
              "\n",
              "    [theme=dark] .colab-df-convert {\n",
              "      background-color: #3B4455;\n",
              "      fill: #D2E3FC;\n",
              "    }\n",
              "\n",
              "    [theme=dark] .colab-df-convert:hover {\n",
              "      background-color: #434B5C;\n",
              "      box-shadow: 0px 1px 3px 1px rgba(0, 0, 0, 0.15);\n",
              "      filter: drop-shadow(0px 1px 2px rgba(0, 0, 0, 0.3));\n",
              "      fill: #FFFFFF;\n",
              "    }\n",
              "  </style>\n",
              "\n",
              "      <script>\n",
              "        const buttonEl =\n",
              "          document.querySelector('#df-c6bac257-9bf5-4374-885f-1aba1f56ef12 button.colab-df-convert');\n",
              "        buttonEl.style.display =\n",
              "          google.colab.kernel.accessAllowed ? 'block' : 'none';\n",
              "\n",
              "        async function convertToInteractive(key) {\n",
              "          const element = document.querySelector('#df-c6bac257-9bf5-4374-885f-1aba1f56ef12');\n",
              "          const dataTable =\n",
              "            await google.colab.kernel.invokeFunction('convertToInteractive',\n",
              "                                                     [key], {});\n",
              "          if (!dataTable) return;\n",
              "\n",
              "          const docLinkHtml = 'Like what you see? Visit the ' +\n",
              "            '<a target=\"_blank\" href=https://colab.research.google.com/notebooks/data_table.ipynb>data table notebook</a>'\n",
              "            + ' to learn more about interactive tables.';\n",
              "          element.innerHTML = '';\n",
              "          dataTable['output_type'] = 'display_data';\n",
              "          await google.colab.output.renderOutput(dataTable, element);\n",
              "          const docLink = document.createElement('div');\n",
              "          docLink.innerHTML = docLinkHtml;\n",
              "          element.appendChild(docLink);\n",
              "        }\n",
              "      </script>\n",
              "    </div>\n",
              "  </div>\n"
            ]
          },
          "metadata": {},
          "execution_count": 158
        }
      ],
      "source": [
        "import pandas as pd\n",
        "import numpy as np\n",
        "df=pd.read_csv(\"emotionsdata.csv\")\n",
        "df.head()\n",
        "#*\n",
        "# https://www.kaggle.com/datasets/parulpandey/emotion-dataset----dataset link"
      ]
    },
    {
      "cell_type": "code",
      "execution_count": null,
      "metadata": {
        "colab": {
          "base_uri": "https://localhost:8080/",
          "height": 175
        },
        "id": "3QPT_h2KYg3D",
        "outputId": "90359e83-f5e8-4dff-a895-8cbc49af1fd1"
      },
      "outputs": [
        {
          "output_type": "execute_result",
          "data": {
            "text/plain": [
              "                                                     text emotion\n",
              "count                                                2503    2503\n",
              "unique                                               2346       6\n",
              "top     The storm of anger brews within me, gathering ...     joy\n",
              "freq                                                    5     695"
            ],
            "text/html": [
              "\n",
              "\n",
              "  <div id=\"df-04b27fe7-8fa6-455e-90e5-c11321936c75\">\n",
              "    <div class=\"colab-df-container\">\n",
              "      <div>\n",
              "<style scoped>\n",
              "    .dataframe tbody tr th:only-of-type {\n",
              "        vertical-align: middle;\n",
              "    }\n",
              "\n",
              "    .dataframe tbody tr th {\n",
              "        vertical-align: top;\n",
              "    }\n",
              "\n",
              "    .dataframe thead th {\n",
              "        text-align: right;\n",
              "    }\n",
              "</style>\n",
              "<table border=\"1\" class=\"dataframe\">\n",
              "  <thead>\n",
              "    <tr style=\"text-align: right;\">\n",
              "      <th></th>\n",
              "      <th>text</th>\n",
              "      <th>emotion</th>\n",
              "    </tr>\n",
              "  </thead>\n",
              "  <tbody>\n",
              "    <tr>\n",
              "      <th>count</th>\n",
              "      <td>2503</td>\n",
              "      <td>2503</td>\n",
              "    </tr>\n",
              "    <tr>\n",
              "      <th>unique</th>\n",
              "      <td>2346</td>\n",
              "      <td>6</td>\n",
              "    </tr>\n",
              "    <tr>\n",
              "      <th>top</th>\n",
              "      <td>The storm of anger brews within me, gathering ...</td>\n",
              "      <td>joy</td>\n",
              "    </tr>\n",
              "    <tr>\n",
              "      <th>freq</th>\n",
              "      <td>5</td>\n",
              "      <td>695</td>\n",
              "    </tr>\n",
              "  </tbody>\n",
              "</table>\n",
              "</div>\n",
              "      <button class=\"colab-df-convert\" onclick=\"convertToInteractive('df-04b27fe7-8fa6-455e-90e5-c11321936c75')\"\n",
              "              title=\"Convert this dataframe to an interactive table.\"\n",
              "              style=\"display:none;\">\n",
              "\n",
              "  <svg xmlns=\"http://www.w3.org/2000/svg\" height=\"24px\"viewBox=\"0 0 24 24\"\n",
              "       width=\"24px\">\n",
              "    <path d=\"M0 0h24v24H0V0z\" fill=\"none\"/>\n",
              "    <path d=\"M18.56 5.44l.94 2.06.94-2.06 2.06-.94-2.06-.94-.94-2.06-.94 2.06-2.06.94zm-11 1L8.5 8.5l.94-2.06 2.06-.94-2.06-.94L8.5 2.5l-.94 2.06-2.06.94zm10 10l.94 2.06.94-2.06 2.06-.94-2.06-.94-.94-2.06-.94 2.06-2.06.94z\"/><path d=\"M17.41 7.96l-1.37-1.37c-.4-.4-.92-.59-1.43-.59-.52 0-1.04.2-1.43.59L10.3 9.45l-7.72 7.72c-.78.78-.78 2.05 0 2.83L4 21.41c.39.39.9.59 1.41.59.51 0 1.02-.2 1.41-.59l7.78-7.78 2.81-2.81c.8-.78.8-2.07 0-2.86zM5.41 20L4 18.59l7.72-7.72 1.47 1.35L5.41 20z\"/>\n",
              "  </svg>\n",
              "      </button>\n",
              "\n",
              "\n",
              "\n",
              "    <div id=\"df-431fcb08-430d-4cbc-8eab-c9c91b978d54\">\n",
              "      <button class=\"colab-df-quickchart\" onclick=\"quickchart('df-431fcb08-430d-4cbc-8eab-c9c91b978d54')\"\n",
              "              title=\"Suggest charts.\"\n",
              "              style=\"display:none;\">\n",
              "\n",
              "<svg xmlns=\"http://www.w3.org/2000/svg\" height=\"24px\"viewBox=\"0 0 24 24\"\n",
              "     width=\"24px\">\n",
              "    <g>\n",
              "        <path d=\"M19 3H5c-1.1 0-2 .9-2 2v14c0 1.1.9 2 2 2h14c1.1 0 2-.9 2-2V5c0-1.1-.9-2-2-2zM9 17H7v-7h2v7zm4 0h-2V7h2v10zm4 0h-2v-4h2v4z\"/>\n",
              "    </g>\n",
              "</svg>\n",
              "      </button>\n",
              "    </div>\n",
              "\n",
              "<style>\n",
              "  .colab-df-quickchart {\n",
              "    background-color: #E8F0FE;\n",
              "    border: none;\n",
              "    border-radius: 50%;\n",
              "    cursor: pointer;\n",
              "    display: none;\n",
              "    fill: #1967D2;\n",
              "    height: 32px;\n",
              "    padding: 0 0 0 0;\n",
              "    width: 32px;\n",
              "  }\n",
              "\n",
              "  .colab-df-quickchart:hover {\n",
              "    background-color: #E2EBFA;\n",
              "    box-shadow: 0px 1px 2px rgba(60, 64, 67, 0.3), 0px 1px 3px 1px rgba(60, 64, 67, 0.15);\n",
              "    fill: #174EA6;\n",
              "  }\n",
              "\n",
              "  [theme=dark] .colab-df-quickchart {\n",
              "    background-color: #3B4455;\n",
              "    fill: #D2E3FC;\n",
              "  }\n",
              "\n",
              "  [theme=dark] .colab-df-quickchart:hover {\n",
              "    background-color: #434B5C;\n",
              "    box-shadow: 0px 1px 3px 1px rgba(0, 0, 0, 0.15);\n",
              "    filter: drop-shadow(0px 1px 2px rgba(0, 0, 0, 0.3));\n",
              "    fill: #FFFFFF;\n",
              "  }\n",
              "</style>\n",
              "\n",
              "    <script>\n",
              "      async function quickchart(key) {\n",
              "        const containerElement = document.querySelector('#' + key);\n",
              "        const charts = await google.colab.kernel.invokeFunction(\n",
              "            'suggestCharts', [key], {});\n",
              "      }\n",
              "    </script>\n",
              "\n",
              "      <script>\n",
              "\n",
              "function displayQuickchartButton(domScope) {\n",
              "  let quickchartButtonEl =\n",
              "    domScope.querySelector('#df-431fcb08-430d-4cbc-8eab-c9c91b978d54 button.colab-df-quickchart');\n",
              "  quickchartButtonEl.style.display =\n",
              "    google.colab.kernel.accessAllowed ? 'block' : 'none';\n",
              "}\n",
              "\n",
              "        displayQuickchartButton(document);\n",
              "      </script>\n",
              "      <style>\n",
              "    .colab-df-container {\n",
              "      display:flex;\n",
              "      flex-wrap:wrap;\n",
              "      gap: 12px;\n",
              "    }\n",
              "\n",
              "    .colab-df-convert {\n",
              "      background-color: #E8F0FE;\n",
              "      border: none;\n",
              "      border-radius: 50%;\n",
              "      cursor: pointer;\n",
              "      display: none;\n",
              "      fill: #1967D2;\n",
              "      height: 32px;\n",
              "      padding: 0 0 0 0;\n",
              "      width: 32px;\n",
              "    }\n",
              "\n",
              "    .colab-df-convert:hover {\n",
              "      background-color: #E2EBFA;\n",
              "      box-shadow: 0px 1px 2px rgba(60, 64, 67, 0.3), 0px 1px 3px 1px rgba(60, 64, 67, 0.15);\n",
              "      fill: #174EA6;\n",
              "    }\n",
              "\n",
              "    [theme=dark] .colab-df-convert {\n",
              "      background-color: #3B4455;\n",
              "      fill: #D2E3FC;\n",
              "    }\n",
              "\n",
              "    [theme=dark] .colab-df-convert:hover {\n",
              "      background-color: #434B5C;\n",
              "      box-shadow: 0px 1px 3px 1px rgba(0, 0, 0, 0.15);\n",
              "      filter: drop-shadow(0px 1px 2px rgba(0, 0, 0, 0.3));\n",
              "      fill: #FFFFFF;\n",
              "    }\n",
              "  </style>\n",
              "\n",
              "      <script>\n",
              "        const buttonEl =\n",
              "          document.querySelector('#df-04b27fe7-8fa6-455e-90e5-c11321936c75 button.colab-df-convert');\n",
              "        buttonEl.style.display =\n",
              "          google.colab.kernel.accessAllowed ? 'block' : 'none';\n",
              "\n",
              "        async function convertToInteractive(key) {\n",
              "          const element = document.querySelector('#df-04b27fe7-8fa6-455e-90e5-c11321936c75');\n",
              "          const dataTable =\n",
              "            await google.colab.kernel.invokeFunction('convertToInteractive',\n",
              "                                                     [key], {});\n",
              "          if (!dataTable) return;\n",
              "\n",
              "          const docLinkHtml = 'Like what you see? Visit the ' +\n",
              "            '<a target=\"_blank\" href=https://colab.research.google.com/notebooks/data_table.ipynb>data table notebook</a>'\n",
              "            + ' to learn more about interactive tables.';\n",
              "          element.innerHTML = '';\n",
              "          dataTable['output_type'] = 'display_data';\n",
              "          await google.colab.output.renderOutput(dataTable, element);\n",
              "          const docLink = document.createElement('div');\n",
              "          docLink.innerHTML = docLinkHtml;\n",
              "          element.appendChild(docLink);\n",
              "        }\n",
              "      </script>\n",
              "    </div>\n",
              "  </div>\n"
            ]
          },
          "metadata": {},
          "execution_count": 159
        }
      ],
      "source": [
        "df.describe()\n",
        "#*"
      ]
    },
    {
      "cell_type": "code",
      "execution_count": null,
      "metadata": {
        "colab": {
          "base_uri": "https://localhost:8080/"
        },
        "id": "_8IwzMVt_zV9",
        "outputId": "11a1efa3-ad70-4e17-98cd-19d4878c5fed"
      },
      "outputs": [
        {
          "output_type": "execute_result",
          "data": {
            "text/plain": [
              "joy         695\n",
              "sadness     682\n",
              "anger       475\n",
              "love        361\n",
              "fear        224\n",
              "surprise     66\n",
              "Name: emotion, dtype: int64"
            ]
          },
          "metadata": {},
          "execution_count": 160
        }
      ],
      "source": [
        "df.emotion.value_counts()\n",
        "#*"
      ]
    },
    {
      "cell_type": "code",
      "execution_count": null,
      "metadata": {
        "colab": {
          "base_uri": "https://localhost:8080/"
        },
        "id": "5JSHsGb8eirg",
        "outputId": "c3045c16-af4a-41e4-84ec-df3c2a69c660"
      },
      "outputs": [
        {
          "output_type": "stream",
          "name": "stdout",
          "text": [
            "LabelEncoder()\n"
          ]
        }
      ],
      "source": [
        "from sklearn.preprocessing import LabelEncoder\n",
        "l_encoder=LabelEncoder()\n",
        "print(l_encoder)\n",
        "#*"
      ]
    },
    {
      "cell_type": "code",
      "execution_count": null,
      "metadata": {
        "id": "h9uPmA2Rj9c_"
      },
      "outputs": [],
      "source": [
        "df['emotion']=l_encoder.fit_transform(df['emotion'])\n",
        "#*"
      ]
    },
    {
      "cell_type": "code",
      "execution_count": null,
      "metadata": {
        "colab": {
          "base_uri": "https://localhost:8080/",
          "height": 423
        },
        "id": "Nc-kQz_2ka8v",
        "outputId": "ff4237aa-4955-4aa0-8848-08329fad0834"
      },
      "outputs": [
        {
          "output_type": "execute_result",
          "data": {
            "text/plain": [
              "                                                   text  emotion\n",
              "0     im feeling rather rotten so im not very ambiti...        4\n",
              "1             im updating my blog because i feel shitty        4\n",
              "2     i never make her separate from me because i do...        4\n",
              "3     i left with my bouquet of red and yellow tulip...        2\n",
              "4       i was feeling a little vain when i did this one        4\n",
              "...                                                 ...      ...\n",
              "2498  Love's embrace is a constant reminder that I a...        3\n",
              "2499  Love's symphony weaves a tapestry of emotions,...        3\n",
              "2500  In love's gentle touch, I find solace, healing...        3\n",
              "2501  Love's radiance shines brightly, illuminating ...        3\n",
              "2502                                  I am getting fear        1\n",
              "\n",
              "[2503 rows x 2 columns]"
            ],
            "text/html": [
              "\n",
              "\n",
              "  <div id=\"df-5b84d402-f385-46a8-bde6-96025451b5e4\">\n",
              "    <div class=\"colab-df-container\">\n",
              "      <div>\n",
              "<style scoped>\n",
              "    .dataframe tbody tr th:only-of-type {\n",
              "        vertical-align: middle;\n",
              "    }\n",
              "\n",
              "    .dataframe tbody tr th {\n",
              "        vertical-align: top;\n",
              "    }\n",
              "\n",
              "    .dataframe thead th {\n",
              "        text-align: right;\n",
              "    }\n",
              "</style>\n",
              "<table border=\"1\" class=\"dataframe\">\n",
              "  <thead>\n",
              "    <tr style=\"text-align: right;\">\n",
              "      <th></th>\n",
              "      <th>text</th>\n",
              "      <th>emotion</th>\n",
              "    </tr>\n",
              "  </thead>\n",
              "  <tbody>\n",
              "    <tr>\n",
              "      <th>0</th>\n",
              "      <td>im feeling rather rotten so im not very ambiti...</td>\n",
              "      <td>4</td>\n",
              "    </tr>\n",
              "    <tr>\n",
              "      <th>1</th>\n",
              "      <td>im updating my blog because i feel shitty</td>\n",
              "      <td>4</td>\n",
              "    </tr>\n",
              "    <tr>\n",
              "      <th>2</th>\n",
              "      <td>i never make her separate from me because i do...</td>\n",
              "      <td>4</td>\n",
              "    </tr>\n",
              "    <tr>\n",
              "      <th>3</th>\n",
              "      <td>i left with my bouquet of red and yellow tulip...</td>\n",
              "      <td>2</td>\n",
              "    </tr>\n",
              "    <tr>\n",
              "      <th>4</th>\n",
              "      <td>i was feeling a little vain when i did this one</td>\n",
              "      <td>4</td>\n",
              "    </tr>\n",
              "    <tr>\n",
              "      <th>...</th>\n",
              "      <td>...</td>\n",
              "      <td>...</td>\n",
              "    </tr>\n",
              "    <tr>\n",
              "      <th>2498</th>\n",
              "      <td>Love's embrace is a constant reminder that I a...</td>\n",
              "      <td>3</td>\n",
              "    </tr>\n",
              "    <tr>\n",
              "      <th>2499</th>\n",
              "      <td>Love's symphony weaves a tapestry of emotions,...</td>\n",
              "      <td>3</td>\n",
              "    </tr>\n",
              "    <tr>\n",
              "      <th>2500</th>\n",
              "      <td>In love's gentle touch, I find solace, healing...</td>\n",
              "      <td>3</td>\n",
              "    </tr>\n",
              "    <tr>\n",
              "      <th>2501</th>\n",
              "      <td>Love's radiance shines brightly, illuminating ...</td>\n",
              "      <td>3</td>\n",
              "    </tr>\n",
              "    <tr>\n",
              "      <th>2502</th>\n",
              "      <td>I am getting fear</td>\n",
              "      <td>1</td>\n",
              "    </tr>\n",
              "  </tbody>\n",
              "</table>\n",
              "<p>2503 rows × 2 columns</p>\n",
              "</div>\n",
              "      <button class=\"colab-df-convert\" onclick=\"convertToInteractive('df-5b84d402-f385-46a8-bde6-96025451b5e4')\"\n",
              "              title=\"Convert this dataframe to an interactive table.\"\n",
              "              style=\"display:none;\">\n",
              "\n",
              "  <svg xmlns=\"http://www.w3.org/2000/svg\" height=\"24px\"viewBox=\"0 0 24 24\"\n",
              "       width=\"24px\">\n",
              "    <path d=\"M0 0h24v24H0V0z\" fill=\"none\"/>\n",
              "    <path d=\"M18.56 5.44l.94 2.06.94-2.06 2.06-.94-2.06-.94-.94-2.06-.94 2.06-2.06.94zm-11 1L8.5 8.5l.94-2.06 2.06-.94-2.06-.94L8.5 2.5l-.94 2.06-2.06.94zm10 10l.94 2.06.94-2.06 2.06-.94-2.06-.94-.94-2.06-.94 2.06-2.06.94z\"/><path d=\"M17.41 7.96l-1.37-1.37c-.4-.4-.92-.59-1.43-.59-.52 0-1.04.2-1.43.59L10.3 9.45l-7.72 7.72c-.78.78-.78 2.05 0 2.83L4 21.41c.39.39.9.59 1.41.59.51 0 1.02-.2 1.41-.59l7.78-7.78 2.81-2.81c.8-.78.8-2.07 0-2.86zM5.41 20L4 18.59l7.72-7.72 1.47 1.35L5.41 20z\"/>\n",
              "  </svg>\n",
              "      </button>\n",
              "\n",
              "\n",
              "\n",
              "    <div id=\"df-cdb98c31-6d7f-4c48-8dc5-069251d03688\">\n",
              "      <button class=\"colab-df-quickchart\" onclick=\"quickchart('df-cdb98c31-6d7f-4c48-8dc5-069251d03688')\"\n",
              "              title=\"Suggest charts.\"\n",
              "              style=\"display:none;\">\n",
              "\n",
              "<svg xmlns=\"http://www.w3.org/2000/svg\" height=\"24px\"viewBox=\"0 0 24 24\"\n",
              "     width=\"24px\">\n",
              "    <g>\n",
              "        <path d=\"M19 3H5c-1.1 0-2 .9-2 2v14c0 1.1.9 2 2 2h14c1.1 0 2-.9 2-2V5c0-1.1-.9-2-2-2zM9 17H7v-7h2v7zm4 0h-2V7h2v10zm4 0h-2v-4h2v4z\"/>\n",
              "    </g>\n",
              "</svg>\n",
              "      </button>\n",
              "    </div>\n",
              "\n",
              "<style>\n",
              "  .colab-df-quickchart {\n",
              "    background-color: #E8F0FE;\n",
              "    border: none;\n",
              "    border-radius: 50%;\n",
              "    cursor: pointer;\n",
              "    display: none;\n",
              "    fill: #1967D2;\n",
              "    height: 32px;\n",
              "    padding: 0 0 0 0;\n",
              "    width: 32px;\n",
              "  }\n",
              "\n",
              "  .colab-df-quickchart:hover {\n",
              "    background-color: #E2EBFA;\n",
              "    box-shadow: 0px 1px 2px rgba(60, 64, 67, 0.3), 0px 1px 3px 1px rgba(60, 64, 67, 0.15);\n",
              "    fill: #174EA6;\n",
              "  }\n",
              "\n",
              "  [theme=dark] .colab-df-quickchart {\n",
              "    background-color: #3B4455;\n",
              "    fill: #D2E3FC;\n",
              "  }\n",
              "\n",
              "  [theme=dark] .colab-df-quickchart:hover {\n",
              "    background-color: #434B5C;\n",
              "    box-shadow: 0px 1px 3px 1px rgba(0, 0, 0, 0.15);\n",
              "    filter: drop-shadow(0px 1px 2px rgba(0, 0, 0, 0.3));\n",
              "    fill: #FFFFFF;\n",
              "  }\n",
              "</style>\n",
              "\n",
              "    <script>\n",
              "      async function quickchart(key) {\n",
              "        const containerElement = document.querySelector('#' + key);\n",
              "        const charts = await google.colab.kernel.invokeFunction(\n",
              "            'suggestCharts', [key], {});\n",
              "      }\n",
              "    </script>\n",
              "\n",
              "      <script>\n",
              "\n",
              "function displayQuickchartButton(domScope) {\n",
              "  let quickchartButtonEl =\n",
              "    domScope.querySelector('#df-cdb98c31-6d7f-4c48-8dc5-069251d03688 button.colab-df-quickchart');\n",
              "  quickchartButtonEl.style.display =\n",
              "    google.colab.kernel.accessAllowed ? 'block' : 'none';\n",
              "}\n",
              "\n",
              "        displayQuickchartButton(document);\n",
              "      </script>\n",
              "      <style>\n",
              "    .colab-df-container {\n",
              "      display:flex;\n",
              "      flex-wrap:wrap;\n",
              "      gap: 12px;\n",
              "    }\n",
              "\n",
              "    .colab-df-convert {\n",
              "      background-color: #E8F0FE;\n",
              "      border: none;\n",
              "      border-radius: 50%;\n",
              "      cursor: pointer;\n",
              "      display: none;\n",
              "      fill: #1967D2;\n",
              "      height: 32px;\n",
              "      padding: 0 0 0 0;\n",
              "      width: 32px;\n",
              "    }\n",
              "\n",
              "    .colab-df-convert:hover {\n",
              "      background-color: #E2EBFA;\n",
              "      box-shadow: 0px 1px 2px rgba(60, 64, 67, 0.3), 0px 1px 3px 1px rgba(60, 64, 67, 0.15);\n",
              "      fill: #174EA6;\n",
              "    }\n",
              "\n",
              "    [theme=dark] .colab-df-convert {\n",
              "      background-color: #3B4455;\n",
              "      fill: #D2E3FC;\n",
              "    }\n",
              "\n",
              "    [theme=dark] .colab-df-convert:hover {\n",
              "      background-color: #434B5C;\n",
              "      box-shadow: 0px 1px 3px 1px rgba(0, 0, 0, 0.15);\n",
              "      filter: drop-shadow(0px 1px 2px rgba(0, 0, 0, 0.3));\n",
              "      fill: #FFFFFF;\n",
              "    }\n",
              "  </style>\n",
              "\n",
              "      <script>\n",
              "        const buttonEl =\n",
              "          document.querySelector('#df-5b84d402-f385-46a8-bde6-96025451b5e4 button.colab-df-convert');\n",
              "        buttonEl.style.display =\n",
              "          google.colab.kernel.accessAllowed ? 'block' : 'none';\n",
              "\n",
              "        async function convertToInteractive(key) {\n",
              "          const element = document.querySelector('#df-5b84d402-f385-46a8-bde6-96025451b5e4');\n",
              "          const dataTable =\n",
              "            await google.colab.kernel.invokeFunction('convertToInteractive',\n",
              "                                                     [key], {});\n",
              "          if (!dataTable) return;\n",
              "\n",
              "          const docLinkHtml = 'Like what you see? Visit the ' +\n",
              "            '<a target=\"_blank\" href=https://colab.research.google.com/notebooks/data_table.ipynb>data table notebook</a>'\n",
              "            + ' to learn more about interactive tables.';\n",
              "          element.innerHTML = '';\n",
              "          dataTable['output_type'] = 'display_data';\n",
              "          await google.colab.output.renderOutput(dataTable, element);\n",
              "          const docLink = document.createElement('div');\n",
              "          docLink.innerHTML = docLinkHtml;\n",
              "          element.appendChild(docLink);\n",
              "        }\n",
              "      </script>\n",
              "    </div>\n",
              "  </div>\n"
            ]
          },
          "metadata": {},
          "execution_count": 163
        }
      ],
      "source": [
        "df"
      ]
    },
    {
      "cell_type": "code",
      "execution_count": null,
      "metadata": {
        "colab": {
          "base_uri": "https://localhost:8080/"
        },
        "id": "XKFGUq3bkjbV",
        "outputId": "841e0acd-c8f0-4d86-ae56-6db9ca6fb254"
      },
      "outputs": [
        {
          "output_type": "execute_result",
          "data": {
            "text/plain": [
              "array([4, 2, 1, 0, 3, 5])"
            ]
          },
          "metadata": {},
          "execution_count": 164
        }
      ],
      "source": [
        "df['emotion'].unique()\n",
        "#*"
      ]
    },
    {
      "cell_type": "code",
      "execution_count": null,
      "metadata": {
        "colab": {
          "base_uri": "https://localhost:8080/"
        },
        "id": "xST0uduoFqdk",
        "outputId": "6d518c40-440b-4e00-a6fa-f6ed41548ad7"
      },
      "outputs": [
        {
          "output_type": "execute_result",
          "data": {
            "text/plain": [
              "array(['anger', 'fear', 'joy', 'love', 'sadness', 'surprise'],\n",
              "      dtype=object)"
            ]
          },
          "metadata": {},
          "execution_count": 165
        }
      ],
      "source": [
        "l_encoder.inverse_transform([0,1,2,3,4,5])\n",
        "#*"
      ]
    },
    {
      "cell_type": "code",
      "execution_count": null,
      "metadata": {
        "id": "Hvsgvo9sk9F6"
      },
      "outputs": [],
      "source": [
        "from sklearn.model_selection import train_test_split\n",
        "x_train,x_test,y_train,y_test=train_test_split(df.text,df.emotion,test_size=0.2)\n",
        "#*"
      ]
    },
    {
      "cell_type": "code",
      "execution_count": null,
      "metadata": {
        "colab": {
          "base_uri": "https://localhost:8080/"
        },
        "id": "JBUtjXcQlgLU",
        "outputId": "3adb5dcb-144a-48e2-b118-a81d6d34838a"
      },
      "outputs": [
        {
          "output_type": "execute_result",
          "data": {
            "text/plain": [
              "array([[0, 0, 0, ..., 0, 0, 0],\n",
              "       [0, 0, 0, ..., 0, 0, 0],\n",
              "       [0, 0, 0, ..., 0, 0, 0]])"
            ]
          },
          "metadata": {},
          "execution_count": 144
        }
      ],
      "source": [
        "from sklearn.feature_extraction.text import CountVectorizer\n",
        "v=CountVectorizer()\n",
        "# df['text'] = df['text'].str.lower()\n",
        "x_train_count.toarray()[:3]\n",
        "#*\n"
      ]
    },
    {
      "cell_type": "code",
      "execution_count": null,
      "metadata": {
        "colab": {
          "base_uri": "https://localhost:8080/"
        },
        "id": "FeWxpa0DUoRR",
        "outputId": "e5880bfd-a83f-424b-c325-1fba399a91e5"
      },
      "outputs": [
        {
          "output_type": "stream",
          "name": "stdout",
          "text": [
            "1067                    i am feeling very petty right now\n",
            "628     i have tested positive but i have never taken ...\n",
            "253     i get frustrated that unresolved issues from m...\n",
            "778     im begging fate not to mess with the next cycl...\n",
            "2101    Anger simmers within me, ready to erupt like a...\n",
            "                              ...                        \n",
            "1613    i feel very cheated since i am supporting the ...\n",
            "8       i like to have the same breathless feeling as ...\n",
            "41      i feel humiliated embarrassed or foolish i wil...\n",
            "1770    i feel like he has a very pleasant nearly tran...\n",
            "1056    i don t feel i can ask him what feels like a d...\n",
            "Name: text, Length: 2002, dtype: object\n",
            "_________________________________________________________________________________________________\n",
            "['i am feeling very petty right now'\n",
            " 'i have tested positive but i have never taken drugs and i feel innocent says martina'\n",
            " 'i get frustrated that unresolved issues from my past have had a severe negative effect on my behavior and feel he must be angry that i have not resolved them by now'\n",
            " ...\n",
            " 'i feel humiliated embarrassed or foolish i will remember that others have felt the same way because of the same kinds of things and i will be kind and helpful and accepting'\n",
            " 'i feel like he has a very pleasant nearly transparent presence on lobelia though that presence was necessary nonetheless'\n",
            " 'i don t feel i can ask him what feels like a dumb question']\n"
          ]
        }
      ],
      "source": [
        "print(x_train)\n",
        "print('_________________________________________________________________________________________________')\n",
        "print(x_train.values)"
      ]
    },
    {
      "cell_type": "code",
      "execution_count": null,
      "metadata": {
        "id": "peNTayiBZ7c7"
      },
      "outputs": [],
      "source": [
        "from sklearn.tree import DecisionTreeClassifier\n",
        "from sklearn.pipeline import Pipeline\n",
        "clf=Pipeline([\n",
        "    ('vectorizer',CountVectorizer()),\n",
        "    ('nb',DecisionTreeClassifier(random_state=1,max_depth=1700))\n",
        "])\n",
        "#*"
      ]
    },
    {
      "cell_type": "code",
      "execution_count": null,
      "metadata": {
        "colab": {
          "base_uri": "https://localhost:8080/",
          "height": 125
        },
        "id": "O5cudFVbbgxO",
        "outputId": "1a924e35-2abb-495a-c523-1457ac8ba819"
      },
      "outputs": [
        {
          "output_type": "execute_result",
          "data": {
            "text/plain": [
              "Pipeline(steps=[('vectorizer', CountVectorizer()),\n",
              "                ('nb', DecisionTreeClassifier(max_depth=1700, random_state=1))])"
            ],
            "text/html": [
              "<style>#sk-container-id-14 {color: black;background-color: white;}#sk-container-id-14 pre{padding: 0;}#sk-container-id-14 div.sk-toggleable {background-color: white;}#sk-container-id-14 label.sk-toggleable__label {cursor: pointer;display: block;width: 100%;margin-bottom: 0;padding: 0.3em;box-sizing: border-box;text-align: center;}#sk-container-id-14 label.sk-toggleable__label-arrow:before {content: \"▸\";float: left;margin-right: 0.25em;color: #696969;}#sk-container-id-14 label.sk-toggleable__label-arrow:hover:before {color: black;}#sk-container-id-14 div.sk-estimator:hover label.sk-toggleable__label-arrow:before {color: black;}#sk-container-id-14 div.sk-toggleable__content {max-height: 0;max-width: 0;overflow: hidden;text-align: left;background-color: #f0f8ff;}#sk-container-id-14 div.sk-toggleable__content pre {margin: 0.2em;color: black;border-radius: 0.25em;background-color: #f0f8ff;}#sk-container-id-14 input.sk-toggleable__control:checked~div.sk-toggleable__content {max-height: 200px;max-width: 100%;overflow: auto;}#sk-container-id-14 input.sk-toggleable__control:checked~label.sk-toggleable__label-arrow:before {content: \"▾\";}#sk-container-id-14 div.sk-estimator input.sk-toggleable__control:checked~label.sk-toggleable__label {background-color: #d4ebff;}#sk-container-id-14 div.sk-label input.sk-toggleable__control:checked~label.sk-toggleable__label {background-color: #d4ebff;}#sk-container-id-14 input.sk-hidden--visually {border: 0;clip: rect(1px 1px 1px 1px);clip: rect(1px, 1px, 1px, 1px);height: 1px;margin: -1px;overflow: hidden;padding: 0;position: absolute;width: 1px;}#sk-container-id-14 div.sk-estimator {font-family: monospace;background-color: #f0f8ff;border: 1px dotted black;border-radius: 0.25em;box-sizing: border-box;margin-bottom: 0.5em;}#sk-container-id-14 div.sk-estimator:hover {background-color: #d4ebff;}#sk-container-id-14 div.sk-parallel-item::after {content: \"\";width: 100%;border-bottom: 1px solid gray;flex-grow: 1;}#sk-container-id-14 div.sk-label:hover label.sk-toggleable__label {background-color: #d4ebff;}#sk-container-id-14 div.sk-serial::before {content: \"\";position: absolute;border-left: 1px solid gray;box-sizing: border-box;top: 0;bottom: 0;left: 50%;z-index: 0;}#sk-container-id-14 div.sk-serial {display: flex;flex-direction: column;align-items: center;background-color: white;padding-right: 0.2em;padding-left: 0.2em;position: relative;}#sk-container-id-14 div.sk-item {position: relative;z-index: 1;}#sk-container-id-14 div.sk-parallel {display: flex;align-items: stretch;justify-content: center;background-color: white;position: relative;}#sk-container-id-14 div.sk-item::before, #sk-container-id-14 div.sk-parallel-item::before {content: \"\";position: absolute;border-left: 1px solid gray;box-sizing: border-box;top: 0;bottom: 0;left: 50%;z-index: -1;}#sk-container-id-14 div.sk-parallel-item {display: flex;flex-direction: column;z-index: 1;position: relative;background-color: white;}#sk-container-id-14 div.sk-parallel-item:first-child::after {align-self: flex-end;width: 50%;}#sk-container-id-14 div.sk-parallel-item:last-child::after {align-self: flex-start;width: 50%;}#sk-container-id-14 div.sk-parallel-item:only-child::after {width: 0;}#sk-container-id-14 div.sk-dashed-wrapped {border: 1px dashed gray;margin: 0 0.4em 0.5em 0.4em;box-sizing: border-box;padding-bottom: 0.4em;background-color: white;}#sk-container-id-14 div.sk-label label {font-family: monospace;font-weight: bold;display: inline-block;line-height: 1.2em;}#sk-container-id-14 div.sk-label-container {text-align: center;}#sk-container-id-14 div.sk-container {/* jupyter's `normalize.less` sets `[hidden] { display: none; }` but bootstrap.min.css set `[hidden] { display: none !important; }` so we also need the `!important` here to be able to override the default hidden behavior on the sphinx rendered scikit-learn.org. See: https://github.com/scikit-learn/scikit-learn/issues/21755 */display: inline-block !important;position: relative;}#sk-container-id-14 div.sk-text-repr-fallback {display: none;}</style><div id=\"sk-container-id-14\" class=\"sk-top-container\"><div class=\"sk-text-repr-fallback\"><pre>Pipeline(steps=[(&#x27;vectorizer&#x27;, CountVectorizer()),\n",
              "                (&#x27;nb&#x27;, DecisionTreeClassifier(max_depth=1700, random_state=1))])</pre><b>In a Jupyter environment, please rerun this cell to show the HTML representation or trust the notebook. <br />On GitHub, the HTML representation is unable to render, please try loading this page with nbviewer.org.</b></div><div class=\"sk-container\" hidden><div class=\"sk-item sk-dashed-wrapped\"><div class=\"sk-label-container\"><div class=\"sk-label sk-toggleable\"><input class=\"sk-toggleable__control sk-hidden--visually\" id=\"sk-estimator-id-40\" type=\"checkbox\" ><label for=\"sk-estimator-id-40\" class=\"sk-toggleable__label sk-toggleable__label-arrow\">Pipeline</label><div class=\"sk-toggleable__content\"><pre>Pipeline(steps=[(&#x27;vectorizer&#x27;, CountVectorizer()),\n",
              "                (&#x27;nb&#x27;, DecisionTreeClassifier(max_depth=1700, random_state=1))])</pre></div></div></div><div class=\"sk-serial\"><div class=\"sk-item\"><div class=\"sk-estimator sk-toggleable\"><input class=\"sk-toggleable__control sk-hidden--visually\" id=\"sk-estimator-id-41\" type=\"checkbox\" ><label for=\"sk-estimator-id-41\" class=\"sk-toggleable__label sk-toggleable__label-arrow\">CountVectorizer</label><div class=\"sk-toggleable__content\"><pre>CountVectorizer()</pre></div></div></div><div class=\"sk-item\"><div class=\"sk-estimator sk-toggleable\"><input class=\"sk-toggleable__control sk-hidden--visually\" id=\"sk-estimator-id-42\" type=\"checkbox\" ><label for=\"sk-estimator-id-42\" class=\"sk-toggleable__label sk-toggleable__label-arrow\">DecisionTreeClassifier</label><div class=\"sk-toggleable__content\"><pre>DecisionTreeClassifier(max_depth=1700, random_state=1)</pre></div></div></div></div></div></div></div>"
            ]
          },
          "metadata": {},
          "execution_count": 169
        }
      ],
      "source": [
        "clf.fit(x_train.values,y_train)\n",
        "#*"
      ]
    },
    {
      "cell_type": "code",
      "execution_count": null,
      "metadata": {
        "colab": {
          "base_uri": "https://localhost:8080/"
        },
        "id": "tUttG-fmbs1b",
        "outputId": "f086bd39-eccf-44ac-a928-b0c44d61a33e"
      },
      "outputs": [
        {
          "output_type": "execute_result",
          "data": {
            "text/plain": [
              "0.780439121756487"
            ]
          },
          "metadata": {},
          "execution_count": 170
        }
      ],
      "source": [
        "clf.score(x_test,y_test)\n",
        "#*"
      ]
    },
    {
      "cell_type": "code",
      "execution_count": null,
      "metadata": {
        "colab": {
          "base_uri": "https://localhost:8080/"
        },
        "id": "-fE0nzcXdawz",
        "outputId": "859e7d09-db09-4e2f-fa8d-4ef077f9b7d2"
      },
      "outputs": [
        {
          "output_type": "execute_result",
          "data": {
            "text/plain": [
              "1.0"
            ]
          },
          "metadata": {},
          "execution_count": 171
        }
      ],
      "source": [
        "clf.score(x_train,y_train)\n",
        "#*"
      ]
    },
    {
      "cell_type": "code",
      "execution_count": null,
      "metadata": {
        "colab": {
          "base_uri": "https://localhost:8080/"
        },
        "id": "MmEiIJ8Y_rAI",
        "outputId": "17c88f6c-ccb3-43f8-ff4c-8d836aa6ee4c"
      },
      "outputs": [
        {
          "data": {
            "text/plain": [
              "array([3])"
            ]
          },
          "execution_count": 16,
          "metadata": {},
          "output_type": "execute_result"
        }
      ],
      "source": [
        "# l = v.fit_transform(['i feel proud to know several people that have deserved to be advanced for a while now and finally picked it up this time around or last time in a few peoples cases'])\n",
        "# l.toarray()[:3]\n",
        "# # x_train_count.toarray()[:3]\n",
        "# print(l)\n",
        "# y=clf.predict(np.array(['i feel proud to know several people that have deserved to be advanced for a while now and finally picked it up this time around or last time in a few peoples cases']))\n",
        "a=['i love you']\n",
        "# y=clf.predict(np.array(['i start to feel lethargic about blogging ']))\n",
        "y=clf.predict(np.array(a))\n",
        "y\n",
        "\n"
      ]
    },
    {
      "cell_type": "code",
      "execution_count": null,
      "metadata": {
        "colab": {
          "base_uri": "https://localhost:8080/"
        },
        "id": "rJtwVvWLBDii",
        "outputId": "7cc9379f-ae0b-4fa9-a39d-867de7ea83ea"
      },
      "outputs": [
        {
          "data": {
            "text/plain": [
              "array([4, 0, 2, 4, 2, 2, 4, 3, 2, 2, 4, 2, 0, 2, 4, 3, 2, 0, 0, 0, 3, 5,\n",
              "       2, 2, 2, 2, 2, 4, 0, 2, 2, 4, 0, 0, 2, 2, 4, 2, 4, 4, 1, 4, 2, 1,\n",
              "       4, 4, 0, 0, 2, 5, 0, 3, 3, 1, 2, 2, 1, 2, 4, 2, 4, 2, 1, 1, 2, 4,\n",
              "       3, 2, 2, 1, 2, 4, 4, 4, 0, 3, 2, 2, 2, 3, 2, 4, 4, 0, 2, 2, 4, 4,\n",
              "       2, 0, 2, 2, 2, 0, 0, 2, 2, 2, 2, 0, 2, 2, 2, 2, 2, 0, 2, 1, 1, 4,\n",
              "       2, 1, 2, 2, 2, 3, 4, 2, 2, 4, 2, 2, 2, 2, 2, 2, 2, 4, 2, 2, 4, 1,\n",
              "       2, 2, 5, 2, 2, 4, 0, 2, 0, 2, 3, 2, 2, 5, 4, 2, 2, 2, 2, 4, 2, 2,\n",
              "       2, 4, 0, 3, 4, 2, 2, 2, 1, 2, 5, 4, 2, 0, 2, 2, 3, 2, 1, 2, 4, 4,\n",
              "       2, 4, 2, 2, 4, 2, 2, 2, 2, 0, 1, 4, 4, 4, 5, 4, 4, 3, 4, 2, 2, 5,\n",
              "       0, 2, 2, 5, 2, 2, 2, 2, 4, 3, 4, 4, 4, 1, 2, 0, 4, 4, 2, 2, 2, 5,\n",
              "       2, 2, 2, 2, 2, 2, 0, 3, 1, 2, 2, 4, 0, 4, 2, 2, 4, 2, 0, 4, 3, 1,\n",
              "       5, 2, 2, 3, 4, 4, 2, 3, 1, 4, 5, 4, 2, 0, 2, 2, 2, 0, 2, 4, 3, 0,\n",
              "       0, 4, 1, 2, 2, 3, 0, 2, 3, 1, 2, 0, 2, 2, 0, 2, 4, 0, 2, 1, 2, 2,\n",
              "       2, 1, 0, 4, 2, 4, 0, 2, 2, 2, 2, 1, 4, 2, 2, 2, 2, 2, 2, 0, 2, 2,\n",
              "       2, 2, 4, 4, 2, 1, 4, 2, 1, 2, 4, 0, 4, 2, 4, 2, 2, 3, 5, 0, 2, 0,\n",
              "       2, 2, 0, 2, 4, 0, 2, 4, 4, 2, 3, 2, 0, 2, 2, 4, 1, 3, 2, 2, 2, 4,\n",
              "       4, 4, 2, 2, 4, 2, 2, 2, 1, 4, 4, 3, 3, 3, 4, 2, 2, 2, 3, 2, 2, 0,\n",
              "       2, 4, 2, 4, 4, 4, 4, 2, 4, 4, 2, 2, 2, 2, 2, 2, 2, 4, 2, 2, 0, 4,\n",
              "       4, 2, 2, 4])"
            ]
          },
          "execution_count": 19,
          "metadata": {},
          "output_type": "execute_result"
        }
      ],
      "source": [
        "y_pre = clf.predict(np.array(x_test))\n",
        "y_pre"
      ]
    },
    {
      "cell_type": "code",
      "execution_count": null,
      "metadata": {
        "colab": {
          "base_uri": "https://localhost:8080/"
        },
        "id": "Nq-Nwfqb2Ti9",
        "outputId": "c5a8304e-97a6-4980-b2ea-8fc6d8f00a7d"
      },
      "outputs": [
        {
          "data": {
            "text/plain": [
              "array(['i think i started to feel a little homesick',\n",
              "       'im not the one who feel bothered about this',\n",
              "       'im feeling better so hopefully things start falling back into the old routine',\n",
              "       'i could maybe get away with simpler folk melodies on some of the songs something fairly predictable but if its just me and a guitar it would end up feeling dull',\n",
              "       'i feel i m handling it well and i m enjoying it he said',\n",
              "       'i wasn t feeling well but no specific issue',\n",
              "       'i go onto the officer down memorial page and reflect on my feelings about that wonderful officer which seems to make me feel a little better',\n",
              "       'i feel that the packaging is really lovely and the product itself just does everything you ask',\n",
              "       'im feeling rather angsty and listless',\n",
              "       'i have been designing earrings for some of my customers bridesmaids which i feel honoured to do',\n",
              "       'i am feeling rather damaged',\n",
              "       'i didint feel any love and caring now',\n",
              "       'i feel that sometimes i ve been distracted and neglectful i am thankful that this is not about adding another box to check in my otherwise busy days',\n",
              "       'im feeling playful a href http',\n",
              "       'im not sure the feeling of loss will ever go away but it may dull to a sweet feeling of nostalgia at what i shared in this life with my dad and the luck i had to have a dad for years',\n",
              "       'i feel more gentle that way wth',\n",
              "       'i am pleased to report that i in many ways i am feeling well',\n",
              "       'i wont lie this week has been abit of a difficult week for me ive been feeling very stressed and anxious this week plus i think im coming down with the flu but it has definately helped me to appreciate the little things',\n",
              "       'i had a good day but right now im feeling pretty irritable for no real reason meaning nothing significant happened to make me feel annoyed',\n",
              "       'im feeling greedy for right now',\n",
              "       'i feel check the wonder in all that you see you ve got to get loving unconditionally',\n",
              "       'i woke up today feeling kind of strange',\n",
              "       'i just want to know the feeling of loving and be loved',\n",
              "       'i am feeling pretty fearless', 'i feel pained by this',\n",
              "       'i just feel so hopeless sometimes',\n",
              "       'i just don t feel that the others are worthwhile',\n",
              "       'i can choose to tell the whole word what im feeling now or just fake it with some happy stories',\n",
              "       'i feel immensely distracted by the barrage of media i receive solicit',\n",
              "       'i have to admit i feel amused when i see the pti jamiat and a whole lot of others in the media try to avoid the suggestion that they are actually protesting the use of sharia in the case of raymond davis s release',\n",
              "       'i like the fresh feeling of sweet he gave me',\n",
              "       'i feel defeated but its okay hahaha my mid term holiday was good',\n",
              "       'i feel disgusted in any man in power who talks about electricity being a problem in his area and says even my own house has similar problems',\n",
              "       'i felt so bad for the bad grade and feeling like having to hide it that i didnt know what to say except to declare in all my frustration that i hated school',\n",
              "       'i thought i would feel apprehensive about it i was surprisingly comfortable while he was gone',\n",
              "       'i feel inspired so many thing i want to write down',\n",
              "       'i feel satisfied that ive made the cut off you can only receive overflow money from stsm if you are over and i told myself that im just going to wait for the overflow instead of trying to hit and help my team',\n",
              "       'i feel like im super rich kinda like when i could drink goldschlager haha',\n",
              "       'i want to feel less stressed',\n",
              "       'i have been feeling so melancholy and alone',\n",
              "       'i was lying in bed last night after a day of making experiments from the usual suspects fabric plastic and feeling agitated that my issues with proper presentation had not made any headway over the course of a mere six hours',\n",
              "       'ive missed that feeling and ive missed being there and ive missed having something to work towards that keeps my focus on me and keeps it off of my phone and the potential trouble it can get me in',\n",
              "       'im sure ill feel more playful soon but i just cant right now',\n",
              "       'i am feeling vulnerable nervous worried anxious and a bit lost',\n",
              "       'i did not know this i could not look out upon the sea and sky without feeling mildly discontent',\n",
              "       'i come home and feel so shitty i cant bring myself to do all the work i need to do',\n",
              "       'i was feeling rather cranky cos i was thinking about the lack of sleep i had bah',\n",
              "       'im afraid to call the guy from yesterday because i think hell be angry because i think my boss is angry because i dont communicate with him and i feel like im doing a shitty job and i project my fears onto him',\n",
              "       'i was remembering this i was feeling skeptical',\n",
              "       'i feel strange talking about less serious things right now like cooking',\n",
              "       'i think i love her enough now to feel pretty insulted and rawr about it',\n",
              "       'i felt it had a slight bitterness in the finish that detracted from its oily mouthfeel and sweet entry',\n",
              "       'i feel like breathing is as delicate as dried rose petals sometimes',\n",
              "       'i feel shy because of what i am wearing',\n",
              "       'i feel so fearless in these post grieving days',\n",
              "       'i feel benevolent enough to buy them some peanuts and other treats',\n",
              "       'i was feeling overwhelmingly anxious so i went into my room to read my bible and pray',\n",
              "       'i feel so extremely disappointed by you you took me for granted',\n",
              "       'i just was expressing myself and her unexpected and kind gesture made me feel bad for a short moment as that was not my intent but for a larger moment which remains with me it reminded me of my blessings like having good friends that have your back',\n",
              "       'i feel ecstatic and privileged',\n",
              "       'i was feeling emotional crying for no apparent reason but at the time it feels like the world is ending',\n",
              "       'i eat a good breakfast i feel more energetic throughout the whole day and don t feel that o clock slump',\n",
              "       'i have to be honest and say that the first two chapters sort of overwhelmed me and i wasnt sure that i was going to be able to follow everything and was feeling kind of dumb',\n",
              "       'i get scared i feel ignored i feel happy i get silly i choke on my own words i make wishes i have dreams and i still want to believe anything could happen in this world for an ordinary girl like you like me for an ordinary girl like you like me how are you',\n",
              "       'i li pouring down in the corner under the moonlight shines on his face i saw his pale face and mouth with half closed eyes bear people feel more distressed',\n",
              "       'i also tell you in hopes that anyone who is still feeling stigmatized or ashamed of their mental health issues will let go of the stigma let go of the shame',\n",
              "       'i figured my parents wont make me feel accepted so i stopped trying i turned to romantic relationships with men',\n",
              "       'i feel reassured that i am dealing with my diet in the right way and that all is good',\n",
              "       'i feel like the leadership training was a perfect vision of what god wants missionary work to be now',\n",
              "       'i feel needy but comfortable with it i feel vulnerable but secure i feel the urge to cum hard but i get no relief',\n",
              "       'im not sure if im more at peace with our situation or if im just not feeling as bitter about it but in the past five months something has changed within me',\n",
              "       'ive have chosen to walk with jesus and maybe im feeling a bit miserable im going to suck it up and think about these three dudes',\n",
              "       'i always end up feeling unwelcome and sad',\n",
              "       'i write this i feel oddly calm like wanting to just relax in a big chair or lay out in the sun',\n",
              "       'i feel like im so distracted most days',\n",
              "       'i feel myself about how successful my attempts are im starting to connect with the fact that people want to hear music not perfection whatever that is',\n",
              "       'i see people who physically resemble me i feel confident to strike up conversations with strangers',\n",
              "       'im feeling fab thank you so very much for asking',\n",
              "       'i often use disney to cheer me up when im feeling low and these past couple days have been no exception',\n",
              "       'i roll my tongue over your labia sucking and nibbling drawing your flesh into my mouth and letting you feel the delicate pinch of my teeth',\n",
              "       'im thinking well i could be a bit smaller but for health reasons and i should see a doctor more regularly because im feeling crappy',\n",
              "       'i feel i have to agree with her even though i can imagine some rather unpleasant possible cases',\n",
              "       'i came home waiting for the shower read something which made me upset thats why i feel discontent haha',\n",
              "       'i can cycle further than ever before and the feeling of finishing the manchester to blackpool miles then not being at all bothered at having to ride an extra mile to put',\n",
              "       'im thankful because i feel somewhat energetic instead of the dead fish that i would become every time every chemo',\n",
              "       'i am feeling relieved to feel myself again',\n",
              "       'i feel miserable and he doesnt care',\n",
              "       'i regularly feel embarrassed about',\n",
              "       'i must add the crowd was similar to last night except it had a much more laid back stoner feel with supporting cast of parents escaped from their kids',\n",
              "       'ive struggled mightily through today and even though i feel cranky and tired and unmotivated still i really am not going to be going to sleep before eleven thirty',\n",
              "       'i feel so blessed to be married to him because he loves his stepchildren',\n",
              "       'i feel extremely honoured to have received such a prestigious award',\n",
              "       'im feeling brave ill snatch him to on my lap and after a few seconds of struggling he completely relaxes and submits to mommy scratches',\n",
              "       'i feel it is of vital importance and stress we show love towards one another and genuine love please people otherwise feel free to go cold on me i do not like being misled',\n",
              "       'i am very sad you feel distracted but i am not participating in the relationship you think we have',\n",
              "       'i kept feeling wonderful as i ran and couldnt believe it',\n",
              "       'im learning mandarin chinese now in preparation for a trip to tianjin this september and already only four lessons in i feel like i have a handle on the basics and im thrilled to have some insight into a language that had always been a total mystery to me',\n",
              "       'i disagree with my parents on many issues and will sometimes let them know my feelings in unkind ways',\n",
              "       'i feel so blessed and honored that we get to be its parents',\n",
              "       'i think itd be easier if i had parents that argued with me about it then i could feel rebellious or something p but right now i just feel like a burden',\n",
              "       'i feel like i am not accepted here i and bucking this force that is coming from all quarters that tells me that something is wrong with me if i am not married with children',\n",
              "       'i firmly believe that the only way to go about this craft is to write the book that you feel passionate about and not to worry about finding the book that the mass audience desires',\n",
              "       'i mention my oldest child before my youngest will her feelings be hurt',\n",
              "       'i feel so blessed to be able to share it with you all',\n",
              "       'i am and i am looking for some vest tops i have some shorts but long ones due to feel paranoid that i have cellulite everywhere',\n",
              "       'i was feeling pretty distracted with a few things that have been going on so it felt good to go with a clear mind',\n",
              "       'i stopped feeling a little awkward',\n",
              "       'i wasn t sure what this gnawing feeling i was having but i was getting agitated sitting around doing nothing',\n",
              "       'im feeling doubtful about all of the patterns and colors working together but we cant be sure until everything comes together',\n",
              "       'i would point out that it really could have used a bit more attention on the writing aspect as it feels a bit dull in few places',\n",
              "       'made a wonderfull new friend',\n",
              "       'im the only one with all the feelings and emotions and thats just pathetic of me to do so',\n",
              "       'i wrote two years ago so many things i feel unsure of maybe',\n",
              "       'i read it at a time amp place where i was feeling less than perfect',\n",
              "       'i am feeling so appreciative today',\n",
              "       'i feel accepted and loved by a community of derby girls that i helped to create',\n",
              "       'i cant think of any emotional state that is worse than feeling generally worthless and unlovable',\n",
              "       'im much more peaceful and happy when the house is clean the food is good and my kids arent feeling needy',\n",
              "       'i feel sure that i will go beyond that',\n",
              "       'i feel terrible when i hurt peoples feelings worse afterwards and i always hope never to do it again',\n",
              "       'i cant help feeling this way',\n",
              "       'i did feel appreciative of the money that was coming in',\n",
              "       'im feeling very disturbed by tons of things',\n",
              "       'i feel as though it is worthwhile and career wise',\n",
              "       'i now im graduating in two days but i feel so sad right now',\n",
              "       'i feel honored to be part of the culinary community here',\n",
              "       'i plan to do so by obtaining an mba and from that mba program i feel that the most valuable outcomes i would like',\n",
              "       'im sad if some people are unhappy about the flag for religious reasons but i know many religious people who do not feel it goes against their faith and they are very supportive',\n",
              "       'i feel a little mellow today',\n",
              "       'ive been feeling a bit melancholy',\n",
              "       'i work well with almost every client ive ever been in contact with because i know what it means to feel depressed angry frustrated irritated hopeless and apathetic because i feel it daily',\n",
              "       'i found myself feeling inhibited and shushing her quite a lot',\n",
              "       'i had the feeling that it might not have been taken as the truthful and sincere compliment it would have been',\n",
              "       'i feel last time ure the one that feel paranoid',\n",
              "       'i feel a little hesitant to leave this time',\n",
              "       'i feel contented just hearing him said that hellip',\n",
              "       'i hate feeling like this this is bullshit ok i m so done bye',\n",
              "       'i feel i can only hope im not alone in these thoughts and im sure to all you fellow exchange students you probably have the same thoughts in mind with at least some of this listed some might say being an exchange student is unlike any other experience',\n",
              "       'i have a feeling i will be dissatisfied several times',\n",
              "       'ill likely post more on those later but feel free to ask if you have questions',\n",
              "       'i feel irritable about the number of people that came into our office whining about their own circumstances i realize im not practicing thinking about the good things and i find it a better way to pull yourself into the present',\n",
              "       'im feeling generous this week',\n",
              "       'i always feel sympathetic for those that do as well because life can be really hard on you sometimes when you do have alot of pride',\n",
              "       'i feel so very keen to leave the country atm',\n",
              "       'i feel was pretty triumphant',\n",
              "       'i could have expected in every way and i was feeling a bit overwhelmed at that point how quickly life changed in the past weeks',\n",
              "       'i was studying i always had the feeling that the process was unpleasant but it was absolutely necessary',\n",
              "       'i work myself like crazy doing extra stuff around the house or volunteering and serving other people in an attempt to feel productive and useful to someone anyone pleeeeeease',\n",
              "       'i gather supplies and start to check her progress via internal exam the head midwife prepares to start an iv and calmly asks others for more assistance i feel reassured by her calmness',\n",
              "       'i feel that this information is vital to moving on with your day and you re not complete until you read it',\n",
              "       'i feel i should as a gracious gesture apologizing for my latest post about the osp and the rand license terms',\n",
              "       'i lost a few people which i hate because i have a really hard time letting go of people to whom i feel loyal',\n",
              "       'i watched the news at the tv',\n",
              "       'i like to add things that i already completed in my day to a new list just to feel more productive when i cross them off',\n",
              "       'i feel so giggly reading your comment tags',\n",
              "       'i have tried to see what it would be like if i liked one of my girl friends but it has never really worked and i can only ever feel an emotional connection to them because they are my friends',\n",
              "       'i made some chilli oil because it s monday and i was feeling dangerous',\n",
              "       'i can put on it without words since i just cant type on that it was so lovely this morning yes im feeling sarcastic today',\n",
              "       'i feel lost and then found november i have told jamie this several times',\n",
              "       'i just feel are ludicrous and wasting space or so trite they should have looked at the book first and come up with something a little more original',\n",
              "       'i feel i have to give credit to jen mitchell for her gorgeous card a href http www',\n",
              "       'i often feel confused as to whether i have bipolar or just a really hard core sinful nature',\n",
              "       'i had just hiked up and down a long steep hillside loaded with grass and bushes so i was feeling pretty doubtful id be able to find it',\n",
              "       'i remember that i moved them but i cant remember where and i feel so foolish',\n",
              "       'i already feel he is using us it feels weird because i havent even done anything there yet but i feel it coming like ministry coming at me',\n",
              "       'i feel like we are doomed us humans',\n",
              "       'i feel privileged to be allowed into the sanctum of her studio the many different paintings and studies lining the walls morph and grow week on week',\n",
              "       'i just feel greedy and lame making one',\n",
              "       'i hate it when i feel fearful for absolutely no reason',\n",
              "       'i feel like i am joining the masses which goes against my rebellion of the popular mentality ha i m so goth but i take peace in knowing that i am not making the same resolutions as everyone else',\n",
              "       'i smiled at him feeling his longing and said maybe later buddy but i have to make lunch now',\n",
              "       'i feel unfathomably rich in having had a healthy pregnancy so far',\n",
              "       'i am feeling very insecure and sensitive',\n",
              "       'i can tell my arms and hands feel weaker and they feel more numb and tingly at night when i wake up',\n",
              "       'i feel dirty talking to people for my personal gain',\n",
              "       'i forgive myself for accepting and allowing myself to have the feeling that i am going to get punished for doing something wrong',\n",
              "       'im definitely not feeling fearful or anything right now',\n",
              "       'i feel sorta vain',\n",
              "       'i receive every month make me proud and feel appreciative',\n",
              "       'when a friend dropped a frog down my neck',\n",
              "       'i did finally get it if you didn t laugh left me feeling delighted exhausted and just so privileged',\n",
              "       'i feel very strongly about supporting charities that help children',\n",
              "       'i just keep feeling like someone is being unkind to me and doing me wrong and then all i can think of doing is to get back at them and the people they are close to',\n",
              "       'i feel as if i havent blogged in ages are at least truly blogged i am doing an update cute little post today',\n",
              "       'i first started reading city of dark magic i thought it would be a challenge to actually enjoy it since i felt like the content about famous classical music was over my head but luckily after plowing through the first chapter i became more confident and started feeling less dumb',\n",
              "       'i found myself looking at the clock and starting to feel irritated',\n",
              "       'i will practice meditation if i feel overwhelmed and hopefully become successful in peaceful practice',\n",
              "       'i still feel confused and guilty about the whole thing',\n",
              "       'im feeling really terrible about it because my journaling has also come to a screeching halt as well',\n",
              "       'i think im making up for feeling like i missed autumn and its great colours',\n",
              "       'i feel kinda weird when andrea tries to talk to me about chris',\n",
              "       'i feel so awful she said',\n",
              "       'i lay here typing this hate blog entry that no one would read although i want the whole world to read and praise me like dickens i feel so miserable',\n",
              "       'i feel like i wouldnt have a longing if only we could have a baby and have that new experience together',\n",
              "       'i feel devastated that my art style can be copied',\n",
              "       'i am feeling energized productive and creative',\n",
              "       'i feel a little glamorous i wet the brush',\n",
              "       'i think or feel but like this person i am still amazed by them',\n",
              "       'i could change the emphasis and say i am stella and i m noticing i m feeling impatient',\n",
              "       'i have found myself fighting back as he wakes me from my sleep time and time again feeling the hurt and sting of my own abandonment to my first love',\n",
              "       'i feel bouncy and i could easily run out there few hours',\n",
              "       'i feel so weird and scattered with all wonders about a million different things',\n",
              "       'i is desperate for kareena akshay kumar will play a double role in flash forward minissha says i still feel today amisha patel in a glamorous avtaar',\n",
              "       'ill find that elusive second wind and feel more hopeful but today i am a href http www',\n",
              "       'i feel privileged in my world', 'i feel safe with berry',\n",
              "       'i feel like it was all in vain cant be right and feel this wrong this heart of mine is just',\n",
              "       'i explain why i clung to a relationship with a boy who was in many ways immature and uncommitted despite the excitement i should have been feeling for getting accepted into the masters program at the university of virginia',\n",
              "       'i am left feeling heartbroken about losing that child and then guilty because my parenting and wife ing has been so far below par for the last months',\n",
              "       'i do feel numb but only because i have so many fucking feels that i ve shorted out from feeling them',\n",
              "       'i basically spent a miserable night crying and feeling terrified and sick to my stomach',\n",
              "       'i feel nervous about leaving my kid with you',\n",
              "       'i feel honored to receive the grassroots preservation award',\n",
              "       'i sometimes have urges to just freak out because i feel so bothered and usually nothing has caused me to feel bothered or irritated i scratch my arms when i m mad',\n",
              "       'i hurt your feelings and for that i am sorry',\n",
              "       'i never been feel this ashame this humiliated in life',\n",
              "       'i ran errands to buy cora a few newborn sized sleepers i had not previously made any newborn sized babies and went out to lunch to celebrate how great i was feeling i feel amazing no pain no pain meds and moving around almost completely normally at days out',\n",
              "       'i feel i m being nutritionally supportive of it as well',\n",
              "       'i wish i could do that chinese bite on my finger so you feel the pain miles away thing but upon some reflection perhaps that wouldnt be very considerate',\n",
              "       'i still sit back and feel amazed by the whole thing',\n",
              "       'i feel blessed to know this family',\n",
              "       'i hope you feel incredibly cool now',\n",
              "       'i find it relaxes me and i feel productive making food as the end product should taste nice and will satisfy myself and other people',\n",
              "       'i have the joy of allowing kids to feel like the valued treasures that they are and to just have a blast being a kid alongside with them but can i just say its an incredibly humbling experience to have influence into a childs life and to know that what you do and say is being internalized',\n",
              "       'i said at the beginning i have combination oily skin but i still use this around once a week because my skin feels absolutely gorgeous the morning after applying it',\n",
              "       'i am feeling sinfully horny this sunday morning',\n",
              "       'ive a feeling briar beagle would give me one of her disgusted looks if i even tried exercising her in these souless surroundings',\n",
              "       'i just feel tender',\n",
              "       'i am feeling irritated anxious which is often then i dont even like my kids touching me',\n",
              "       'i really like this person feel that the question was really asked out of a sincere place of love and concern about how to move forward in light of what the sexuality study recently a href http www',\n",
              "       'i feel calm silent and protected by the definiteness of this existence',\n",
              "       'i feel rejected and i cant find what ive left behind',\n",
              "       'i feel so disgusted when i see blood and feel like faiting and also when people eat raw meat in front of me',\n",
              "       'i feel a little guilty that we have this exceptional little girl from ethiopia home and in our arms but this blog continues to surround goosey',\n",
              "       'i may not have really been feeling superior but i certainly was feeling that i had the answers wasnt i',\n",
              "       'i have a family i can feel passionate about and completely comfortable with',\n",
              "       'i am feeling a bit ungrateful and choose to correct that',\n",
              "       'i vented my feelings towards the pathetic excuse of a communicat',\n",
              "       'i am reminded of pavement yurusei yatsura and coheed and cambria without feeling offended that they have ripped them off',\n",
              "       'im saying this having not read the book the characters were hard to empathise for and a lot of the time i found myself not feeling distraught when something happened but rather uninterested and blank',\n",
              "       'im even feeling liked by the girls who hate pretty much everyone',\n",
              "       'i feel so restless so bored and im in danger of giving up on being good at work',\n",
              "       'i started feeling a little funny but this was not anxiety but at the time i didnt know so i started to tell my brother man i dont feel good and he said whats wrong i said i dont know but u better drive so i pulled over and let him drive',\n",
              "       'i also feel the need to mention that the animators at pixar sure outdid themselves this time',\n",
              "       'i am really excited because i didnt really stand out a lot in high school i was just slightly above average and decently friendly and i feel like delivering this speech will be a cool legacy i can leave on the school',\n",
              "       'im feeling and if ive liked being pregnant',\n",
              "       'im feeling depressed again',\n",
              "       'i cause extreme worry and distress ground to remember fondly you forever mary prepares to feel unfortunate time eventuallythe intense emotion have sexual lovein condescend to come she by hand puts out strength wu mouth dont let oneself cry out',\n",
              "       'i am feeling triumphant today',\n",
              "       'i have learned how much more like a neighbourhood this place feels the humans with dogs have been very sympathetic and understand my quixotic need to walk a dog to walk period',\n",
              "       'i will try and stay focused in order to avoid that feeling of a reluctant finish',\n",
              "       'i always feel a bit awkward when i comment on someone s blog because i invariably go on rabbit trails and feel as though i ve been overstepping myself so i d like to tell you if you find yourself feeling the same way that i do not mind in the slightest',\n",
              "       'i feel the need to explain myself and my thoughts in ways that are clever funny or maybe even insightful',\n",
              "       'i never told my boyfriend or his parents and i do remember feeling embarrassed and maybe even a little ashamed',\n",
              "       'i feel that working together and supporting each other as a whole i can represent a larger younger voice in politics what can i say to that',\n",
              "       'i know how it feels to be tortured',\n",
              "       'i have a feeling there are a lot of pissed off people in sea org in hollywood where scientology has become the monster that devoured wa wonderfully sleazy bohemian area',\n",
              "       'im not sure but theres nothing that will get a person feeling amorous faster than a stay in a hotel',\n",
              "       'im feeling completely idiotic by not being ablo to contribute',\n",
              "       'im sorry im feeling a little bitchy tacky looking women came in and sat next to me',\n",
              "       'i just want that feeling of not caring about unnecessary stuff like i felt before',\n",
              "       'i don t feel like i should be punished to carry this burden even though i have been for four years now',\n",
              "       'ive been feeling delicate this week',\n",
              "       'i actually feel agitated which led to a terrible day yesterday in which i was unable to concentrate on anything and basically piddled the day away',\n",
              "       'i highly recommend visiting on a wednesday if youre able because its less crowded so you get to ask the farmers more questions without feeling rude for holding up a line',\n",
              "       'i feel embarrassed that it got so bad',\n",
              "       'i never feel shy to call or send a billion text messages to and i wont be bugging her',\n",
              "       'i feel thoroughly virtuous even if the daily trip to the compost bin isn t the most pleasant experience',\n",
              "       'i feel very honoured to have been asked',\n",
              "       'i feel like my sweet company is finally coming together',\n",
              "       'i was feeling whether it be mad sad disappointed or peaceful',\n",
              "       'i feel so talented i can use a computer',\n",
              "       'i just feel like someone out there has to listen and be sympathetic and then',\n",
              "       'i was feeling weird the other day and it went away about minutes after i took my metformin',\n",
              "       'im with a group of people i still feel isolated and on the outside looking in',\n",
              "       'i should pull out if i feel resentful or edgy',\n",
              "       'i just went about my script of would you like mustard or sauce with that and started to feel really startled',\n",
              "       'i do think that if a husband feels greatly respected by his wife that will draw him to her and make it much less likely that he would want to flirt with other women',\n",
              "       'i went outside to shut in the hens then was tempted by the brilliance of the stars to walk across the frozen fields feeling very cold looking up into the sky',\n",
              "       'i love how my customers leave the studio looking automatically refreshed and radiant and now with the product line everyone can feel gorgeous and confident',\n",
              "       'i would force myself to eat my normal routine clean meals a day but then i just started feeling so awful',\n",
              "       'im feeling dangerous and ill just write and figure out where the hell itll take me',\n",
              "       'i really feel pissed off as i want to spend more time with you',\n",
              "       'i cant walk into a shop anywhere where i do not feel uncomfortable',\n",
              "       'i feel so thrilled to have three such distinguished individuals such as yourselves here',\n",
              "       'i feel like i have all these cute things but i dont feel comfortable in them and dont know how to put them together',\n",
              "       'i just feel extremely comfortable with the group of people that i dont even need to hide myself',\n",
              "       'i get paid too much because i get so many deliveries at work im feeling a bit shamed so will curb the spending for a bit',\n",
              "       'i used to be able to hang around talk with the cashier when i was putting away my money now i feel rushed and stressed if i take a second to fumble with the coins and put them in my purse',\n",
              "       'i really feel like i am useless in this world',\n",
              "       'i definitely feel there s some useful information here for anyone facing similar questions to those i had during this time of my life',\n",
              "       'i dont remember how january was like last year thats why i need a real diary but this one is feeling bitter dark and boring',\n",
              "       'ive been feeling incredibly inadequate more so than usual and its gotten to a point where i almost feel paralyzed by it',\n",
              "       'i feel agitated and annoyed more than worried or fearful but these feelings can easily lead to being short tempered with my family and feelings of disharmony',\n",
              "       'i know different because i feel in your hugs and kisses that im perfect just the way i am',\n",
              "       'i feel so amazingly overwhelming thrilled for my wedding',\n",
              "       'i would feel so i don t know maybe a little resentful',\n",
              "       'i was also feeling the ole restless leg syndrome as i shifted back and forth between legs trying to do something with my excess energy that just hit me',\n",
              "       'im enjoying my solitary confinement at home i rarely feel lonely',\n",
              "       'i feel like that line is so perfect',\n",
              "       'i spend a lot of time feeling disappointed with myself for not doing a better job at attaining my goals',\n",
              "       'i feel however i have something far more precious than feelings',\n",
              "       'im feeling hopeful relieved',\n",
              "       'i feel confident around him and i am always there if he needs help',\n",
              "       'i feel productive and active but i have the balance i need',\n",
              "       'i decent article which i knew likely had good information because my initial response was to feel offended and want to argue despite the fact that it was talking about not doing exactly that',\n",
              "       'im in such a happy mood today i feel almost delighted and i havent done anything different today then i normally have it is wonderful',\n",
              "       'im feeling generous today heres one more you may have already seen but is good for a chuckle',\n",
              "       'i am feeling apprehensive about it but also wildly excited',\n",
              "       'i feel like they don t think it s sincere when it really is she told us exclusively',\n",
              "       'i lost a few pounds but i also started to feel really awful',\n",
              "       'i feel like i know who most of them are by now and am starting to develop my likes and dislikes though i have not been keen on the snap evictions they have seemed pretty pointless the first one to go returned and the two webmates made absolutely zero impact on me so they won t be missed',\n",
              "       'i didnt want to feel any pain an hour later they decided to start that up and shortly after that they broke my water',\n",
              "       'i described how i was feeling the feeling of being out of control and completely restless the fear of what could still happen my obsession with trying to do it all and the fact that it was just not working',\n",
              "       'i wake up in morning and when i go to sleep at evening i feel that seed voice in my heart that is screaming out from my empty stitched heart',\n",
              "       'im not feeling jolly in the least',\n",
              "       'i am just feeling as indecisive as ever i suppose',\n",
              "       'i feel like now its more of sweet apple now',\n",
              "       'im updating my blog because i feel shitty',\n",
              "       'i seek out pain to feel tortured just to feel something',\n",
              "       'i feel confident to be me again in personal life and right when my work life was going well with my boss slowly understanding why i continually ask for and demand we address the tough issues that cause problems with our various departments',\n",
              "       'i dont know but i feel virtuous so i accept the reward',\n",
              "       'i have had no interest at all to make any effort to meet men and when the chance arrises i then feel burdened with negative thoughts of he ll just be another idiot only after one thing',\n",
              "       'i feel so relaxed and happy and i have discovered that i love having projects that take a few months to do but in the end i will have an actual product to show for',\n",
              "       'i can honestly say that after each sistahs chat i feel invigorated and blessed',\n",
              "       'i have nostalgic feelings i have met wonderful people online and the online internet is for me like my second life',\n",
              "       'i was feeling a little fearful of trying to eat this damn thing',\n",
              "       'i feel impatient with brian s prolonged assertion of his alien encounter but nobody other than the victim could truly relate to repercussion of being molested',\n",
              "       'i do exercise i feel energetic and i am able to perform my other tasks in a very good manner',\n",
              "       'i don t feel particularly agitated',\n",
              "       'i think it s to do with the fact that i know i don t have a lot of time to play catch up and also because my free time for the first time in what feels like forever is really my free time',\n",
              "       'i got into the house feeling fairly calm the photographer is weaving his way in and out of bridesmaids doing touch ups my dad is telling a story my mom is running in and out of the house i manage to go through my list before the bridesmaids start clamoring for the dress',\n",
              "       'i feel its rude to say he is better than all the other men',\n",
              "       'i have ever seen in my life was laceys constant disapprovements of rikkis extreme happiness when she just wasnt feeling quite as carefree as he was',\n",
              "       'i start to feel lethargic about blogging',\n",
              "       'i think about the things ive said and the stuff i have done it makes me feel disgusted in myself when i should be making you happy and smile which i was far from doing',\n",
              "       'im feeling just a little bit pleased with myself',\n",
              "       'i justified in feeling slighted or am i just being ungrateful',\n",
              "       'i feel so exhausted by a',\n",
              "       'i used that word just to feel the energy of anticipation as people prepare their delicious meals and gather their needed tools for when they invite their loved ones into their homes',\n",
              "       'i do feel terribly remourseful that i didnt stay faithful to my plans and get him sooner',\n",
              "       'i really enjoy cabernet for how aggressive the flavors tend to be and while this isnt exactly a light wine it still has a general congenial feel to it that i find a very pleasant',\n",
              "       'i started questioning god feeling worthless and even jealous of others that come by parenthood so easily',\n",
              "       'i always feel that love is something much vaster and if we could explore it together perhaps i should then make my life into something worthwhile before it is too late',\n",
              "       'i feel suffocated and paranoid',\n",
              "       'i feel so discontent so guilty so pathetic so lonley and i hate myself for it',\n",
              "       'i notice how different this question is from why i am feeling so agitated',\n",
              "       'i feel watching him grow into a self assured life loving boy',\n",
              "       'im not quite sure how she really feels about it because im pretty sure that she realizes that she is going to miss getting to watch the parade which is something she really enjoys',\n",
              "       'i feel like im a pathetic little desperation',\n",
              "       'i continue to feel so content about our decision to move here',\n",
              "       'i am only providing the link as a courtesy to its author but it was all about stuff that was either before my time or i never experienced even if i lived when it was available so i couldn t feel emotional about any of it',\n",
              "       'i feel thrilled that by the end of the month this round will be completed and i can begin to recover',\n",
              "       'i say i feel alone br style color line height',\n",
              "       'i feel like rich purple and gold are a match made in heaven and this reinforces that belief',\n",
              "       'i didn t really go looking for it but i can definately see where the enjorlas marius ship comes from though sadly i feel it s mostly one sided and that marius is nothing more than a rich schoolboy following his whims without thoughts to the concequences',\n",
              "       'i feel so pathetic and useless being unable to do anything',\n",
              "       'i am feeling joyful every part of me feels happy and light and whimsical',\n",
              "       'i have found that some korean men are turning to foreign women because of the freedom they feel it can be easily accounted for that dating between koreans can be a casual thing but more often than not it tends to be a serious matter',\n",
              "       'i feel like i m superior to the human race rel bookmark permalink',\n",
              "       'i dont know how to deal with this i feel like its becoming apart if who i am im afraid that im going to associate it with regular things so that i will never forget it',\n",
              "       'i sit here writing this i feel unhappy inside',\n",
              "       'i feel fine class pin it button count layout horizontal pin it',\n",
              "       'i am and always have been a very sincere nice feeling sociable compassionate helpful girl',\n",
              "       'i wonder how it feels to be loved by someone you love',\n",
              "       'i have not had any serious injuries or setbacks other than that infection in my foot a couple of months ago but i have noticed that my knees and inner foot have started to ache and feel tender during the longer runs',\n",
              "       'i got the sleep but if i could choose not to be woken up by an alarm i d definitely take that over anything it makes me feel so groggy',\n",
              "       'im feeling sentimental or in need of reassurance',\n",
              "       'i promise youll feel inspired afterwards',\n",
              "       'i was feeling clever so i changed the last line to cookies for you',\n",
              "       'i feel the need to pimp this since raini my beloved rocky casting director loves it so much',\n",
              "       'i feel useful and valued and that is fundamental for me',\n",
              "       'i am being over dramatic but i do feel very strongly for her and i am resolved to speak with her next chance i get',\n",
              "       'i decided to lay down in my bed but then i started to feel really violent like i wanted to punch and kick things except i didnt wnat to hurt anything',\n",
              "       'i embraced feeling thankful that the middle wall of partition had thus far been broken down',\n",
              "       'i feel like there is no way out being humiliated by asa a guy i was obssessed about who played an embarrassing joke on me getting caught by tabbys wife tabby is a lover i once had who was married and i blindly fell in love with him',\n",
              "       'i am now feeling delighted but daunted',\n",
              "       'i need a break or im feeling stressed out',\n",
              "       'i always feel stupid afterwards',\n",
              "       'i cannot even begin to express in words the depth of sorrow that i feel having not posted any of my ludicrous rants over the passed days',\n",
              "       'i really need to find my nitch up here in vt i feel very lonely and bored and it s taking it s toll a href http twitter',\n",
              "       'i was feeling adventurous though so i went with some asian flavors of ginger and sesame oil for my salad',\n",
              "       'i feel like my life has been taken over by a video game and im doomed to repeat the same set of circumstances over and over again until i collect all of the special powers knowledge and treasures to finally advance me to the next level',\n",
              "       'i do feel discouraged by what my supervisor said',\n",
              "       'i said before do feel free to contact me this is something i am interested in finding out more about',\n",
              "       'i just cant help but feel like i must protect this innocent being',\n",
              "       'i feel that it is of vital importance that those who care about me know this stuff',\n",
              "       'i left with my bouquet of red and yellow tulips under my arm feeling slightly more optimistic than when i arrived',\n",
              "       'when i heard the last regulation of the socialist govrenment concerning pensions',\n",
              "       'i dont have any photos with me because i was too excited and happy about my prejudging which i did great btw at least i feel tt i did since i felt confident and didnt stutter in front the panel of judges we had and dearest bf was around after doors opened for the public',\n",
              "       'i felt this emotion when my name was announced on the radio that i had been selected to come to lilongwe school for health sciences to take a training course as a medical assistat',\n",
              "       'i too feel a sense of melancholy for them',\n",
              "       'i feel myself falling into the pit of buying it from her i think he s for real i m just skeptical of the women',\n",
              "       'i feel like i fucked up big time but i have to protect a and myself',\n",
              "       'i am not feeling too bad except that my ribs are aching and i have a pulled muscle in my shoulder blade region from all my excruciating hours of hacking my lungs out last night',\n",
              "       'i suppose if one was feeling generous one could say i was stressed by the elevator ride',\n",
              "       'i feel so needy latley',\n",
              "       'getting sent on a company expense trip to another state to work for a week at that plan',\n",
              "       'im feeling exponentially more useless on the farm as each day passes',\n",
              "       'i had that kinda feeling but ignored it'], dtype=object)"
            ]
          },
          "execution_count": 20,
          "metadata": {},
          "output_type": "execute_result"
        }
      ],
      "source": [
        "k=np.array(x_test)\n",
        "k"
      ]
    },
    {
      "cell_type": "code",
      "execution_count": null,
      "metadata": {
        "id": "VjwqyBLB0xtq"
      },
      "outputs": [],
      "source": [
        "d=DecisionTreeClassifier()\n",
        "d.__dir__()"
      ]
    },
    {
      "cell_type": "code",
      "execution_count": null,
      "metadata": {
        "colab": {
          "base_uri": "https://localhost:8080/"
        },
        "id": "i76_Bw1VYaDd",
        "outputId": "11510781-e3e5-4605-ec54-b492249e21a7"
      },
      "outputs": [
        {
          "output_type": "stream",
          "name": "stdout",
          "text": [
            "Accuracy (Decision Tree Classifier): 0.7544910179640718\n",
            "Accuracy (Random Forest Classifier): 0.5988023952095808\n",
            "Accuracy (Support Vector Classifier): 0.5389221556886228\n",
            "Accuracy (Logistic regression): 0.7065868263473054\n"
          ]
        },
        {
          "output_type": "stream",
          "name": "stderr",
          "text": [
            "/usr/local/lib/python3.10/dist-packages/sklearn/linear_model/_logistic.py:458: ConvergenceWarning: lbfgs failed to converge (status=1):\n",
            "STOP: TOTAL NO. of ITERATIONS REACHED LIMIT.\n",
            "\n",
            "Increase the number of iterations (max_iter) or scale the data as shown in:\n",
            "    https://scikit-learn.org/stable/modules/preprocessing.html\n",
            "Please also refer to the documentation for alternative solver options:\n",
            "    https://scikit-learn.org/stable/modules/linear_model.html#logistic-regression\n",
            "  n_iter_i = _check_optimize_result(\n"
          ]
        }
      ],
      "source": [
        "from sklearn.tree import DecisionTreeClassifier\n",
        "from sklearn.ensemble import RandomForestClassifier\n",
        "from sklearn.svm import SVC\n",
        "from sklearn.pipeline import Pipeline\n",
        "from sklearn.feature_extraction.text import CountVectorizer\n",
        "from sklearn.linear_model import LogisticRegression\n",
        "\n",
        "# Define the pipeline\n",
        "clf = Pipeline([\n",
        "    ('vectorizer', CountVectorizer()),\n",
        "    ('classifier', DecisionTreeClassifier(random_state=1, max_depth=1700))\n",
        "])\n",
        "\n",
        "# Train and evaluate with Decision Tree Classifier\n",
        "clf.fit(x_train, y_train)\n",
        "accuracy = clf.score(x_test, y_test)\n",
        "print(\"Accuracy (Decision Tree Classifier):\", accuracy)\n",
        "\n",
        "# Change the classifier to Random Forest Classifier\n",
        "clf.set_params(classifier=RandomForestClassifier(random_state=1, n_estimators=100))\n",
        "clf.fit(x_train, y_train)\n",
        "accuracy = clf.score(x_test, y_test)\n",
        "print(\"Accuracy (Random Forest Classifier):\", accuracy)\n",
        "\n",
        "# Change the classifier to Support Vector Classifier\n",
        "clf.set_params(classifier=SVC(random_state=30))\n",
        "clf.fit(x_train, y_train)\n",
        "accuracy = clf.score(x_test, y_test)\n",
        "print(\"Accuracy (Support Vector Classifier):\", accuracy)\n",
        "\n",
        "# Continue with other classifiers as needed\n",
        "clf.set_params(classifier=LogisticRegression(random_state=30))\n",
        "clf.fit(x_train, y_train)\n",
        "accuracy = clf.score(x_test, y_test)\n",
        "print(\"Accuracy (Logistic regression):\", accuracy)\n"
      ]
    },
    {
      "cell_type": "code",
      "source": [
        "import pandas as pd\n",
        "import numpy as np\n",
        "import matplotlib.pyplot as plt"
      ],
      "metadata": {
        "id": "4xVFUtm9mtSj"
      },
      "execution_count": null,
      "outputs": []
    },
    {
      "cell_type": "code",
      "source": [
        "dtreeacc = 0.7544910179640718\n",
        "rtc = 0.5988023952095808\n",
        "svcacc = 0.5389221556886228\n",
        "lracc = 0.7065868263473054\n",
        "\n",
        "a = [\"decision tree\", \"random forest\", \"SVC\", \"logistic regression\"]\n",
        "x = [dtreeacc, rtc, svcacc, lracc]\n",
        "colors = ['blue', 'green', 'red', 'orange']\n",
        "\n",
        "# Plotting the bar plot\n",
        "bars = plt.bar(a, x, color=colors)\n",
        "\n",
        "# Adding labels and title\n",
        "plt.xlabel('Model')\n",
        "plt.ylabel('Accuracy')\n",
        "plt.title('Model Accuracies')\n",
        "\n",
        "# Adding a legend with colors corresponding to the models\n",
        "plt.legend(bars, a)\n",
        "\n",
        "# Display the plot\n",
        "plt.show()"
      ],
      "metadata": {
        "colab": {
          "base_uri": "https://localhost:8080/",
          "height": 472
        },
        "id": "IrOhVttImPZt",
        "outputId": "ac24cde6-aa72-4067-c0f5-e39e14f348bb"
      },
      "execution_count": null,
      "outputs": [
        {
          "output_type": "display_data",
          "data": {
            "text/plain": [
              "<Figure size 640x480 with 1 Axes>"
            ],
            "image/png": "[encoded data removed]"
          },
          "metadata": {}
        }
      ]
    },
    {
      "cell_type": "markdown",
      "metadata": {
        "id": "6NABN6gpzxyB"
      },
      "source": [
        "save the trained model\n"
      ]
    },
    {
      "cell_type": "code",
      "execution_count": null,
      "metadata": {
        "id": "pPxWwE417asz"
      },
      "outputs": [],
      "source": [
        "import pickle"
      ]
    },
    {
      "cell_type": "code",
      "execution_count": null,
      "metadata": {
        "id": "JmDxQ1Qo7zlG"
      },
      "outputs": [],
      "source": [
        "filename='miniproject.sav'\n",
        "pickle.dump(clf,open(filename,'wb'))"
      ]
    },
    {
      "cell_type": "code",
      "execution_count": null,
      "metadata": {
        "id": "5M3U1omq8i_d"
      },
      "outputs": [],
      "source": [
        "#loading the saved model\n",
        "loaded_model=pickle.load(open('miniproject.sav','rb'))"
      ]
    },
    {
      "cell_type": "code",
      "execution_count": null,
      "metadata": {
        "colab": {
          "base_uri": "https://localhost:8080/"
        },
        "id": "bMZwtWxv9JXR",
        "outputId": "359c90c5-399f-4fe2-86f8-1828f4d9800b"
      },
      "outputs": [
        {
          "output_type": "execute_result",
          "data": {
            "text/plain": [
              "array([2])"
            ]
          },
          "metadata": {},
          "execution_count": 177
        }
      ],
      "source": [
        "# a=['i love you']\n",
        "# a=['i had that kinda feeling but ignored it']\n",
        "a=['i am sad']\n",
        "y=loaded_model.predict(np.array(a))\n",
        "y"
      ]
    }
  ],
  "metadata": {
    "colab": {
      "provenance": []
    },
    "kernelspec": {
      "display_name": "Python 3",
      "name": "python3"
    },
    "language_info": {
      "name": "python"
    }
  },
  "nbformat": 4,
  "nbformat_minor": 0
}